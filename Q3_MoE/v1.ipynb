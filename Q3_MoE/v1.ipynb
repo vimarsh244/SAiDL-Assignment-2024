{
 "cells": [
  {
   "cell_type": "code",
   "execution_count": 2,
   "metadata": {},
   "outputs": [],
   "source": [
    "import torch\n",
    "import torch.nn as nn\n",
    "import torch.optim as optim\n",
    "from torch.utils.data import DataLoader\n",
    "from torch.nn.utils.rnn import pad_sequence\n",
    "from sklearn.metrics import classification_report\n",
    "from transformers import BertTokenizer, BertModel\n",
    "from transformers.optimization import AdamW\n",
    "from transformers import get_linear_schedule_with_warmup"
   ]
  },
  {
   "cell_type": "markdown",
   "metadata": {},
   "source": []
  },
  {
   "cell_type": "code",
   "execution_count": 3,
   "metadata": {},
   "outputs": [],
   "source": [
    "# Define the MoE layer\n",
    "class MoE(nn.Module):\n",
    "    def __init__(self, input_dim, expert_dim, num_experts):\n",
    "        super(MoE, self).__init__()\n",
    "        self.input_dim = input_dim\n",
    "        self.expert_dim = expert_dim\n",
    "        self.num_experts = num_experts\n",
    "        \n",
    "        self.experts = nn.ModuleList([nn.Linear(input_dim, expert_dim) for _ in range(num_experts)])\n",
    "        self.gating_network = nn.Linear(input_dim, num_experts)\n",
    "\n",
    "    def forward(self, x):\n",
    "        gating_scores = F.softmax(self.gating_network(x), dim=1)\n",
    "        expert_outputs = [expert(x) for expert in self.experts]\n",
    "        weighted_expert_outputs = [score.unsqueeze(2) * expert_output for score, expert_output in zip(gating_scores.split(1, dim=1), expert_outputs)]\n",
    "        output = torch.sum(torch.stack(weighted_expert_outputs, dim=0), dim=0)\n",
    "        return output\n",
    "\n",
    "# Define the LSTM-MoE model\n",
    "class LSTM_MoE(nn.Module):\n",
    "    def __init__(self, input_dim, hidden_dim, output_dim, num_layers, num_experts):\n",
    "        super(LSTM_MoE, self).__init__()\n",
    "        self.lstm1 = nn.LSTM(input_dim, hidden_dim, num_layers=num_layers, batch_first=True)\n",
    "        self.moe = MoE(hidden_dim, hidden_dim, num_experts)\n",
    "        self.lstm2 = nn.LSTM(hidden_dim, output_dim, num_layers=num_layers, batch_first=True)\n",
    "\n",
    "    def forward(self, x):\n",
    "        lstm1_output, _ = self.lstm1(x)\n",
    "        moe_output = self.moe(lstm1_output)\n",
    "        lstm2_output, _ = self.lstm2(moe_output)\n",
    "        return lstm2_output\n"
   ]
  },
  {
   "cell_type": "markdown",
   "metadata": {},
   "source": []
  },
  {
   "cell_type": "code",
   "execution_count": 4,
   "metadata": {},
   "outputs": [],
   "source": [
    "# Load CoNLL-2003 dataset\n",
    "def load_conll_data(file_path):\n",
    "    sentences = []\n",
    "    labels = []\n",
    "    with open(file_path, 'r') as file:\n",
    "        words = []\n",
    "        tags = []\n",
    "        for line in file:\n",
    "            line = line.strip()\n",
    "            if line == '':\n",
    "                sentences.append(words)\n",
    "                labels.append(tags)\n",
    "                words = []\n",
    "                tags = []\n",
    "            else:\n",
    "                word, _, _, tag = line.split(' ')\n",
    "                words.append(word)\n",
    "                tags.append(tag)\n",
    "    return sentences, labels\n",
    "\n",
    "# Tokenize and encode sentences\n",
    "def tokenize_and_encode(sentences, labels, tokenizer, max_length):\n",
    "    tokenized_sentences = []\n",
    "    encoded_labels = []\n",
    "    for sent, labs in zip(sentences, labels):\n",
    "        tokenized_sent = tokenizer.tokenize(' '.join(sent))\n",
    "        tokenized_sentences.append(tokenized_sent)\n",
    "        encoded_labels.append([label_map[label] for label in labs])\n",
    "    input_ids = [tokenizer.convert_tokens_to_ids(tokens) for tokens in tokenized_sentences]\n",
    "    input_ids = pad_sequence([torch.tensor(ids) for ids in input_ids], batch_first=True, padding_value=tokenizer.pad_token_id)\n",
    "    attention_masks = input_ids != tokenizer.pad_token_id\n",
    "    return input_ids, attention_masks, encoded_labels\n",
    "\n",
    "# Define evaluation function\n",
    "def evaluate_model(model, dataloader):\n",
    "    model.eval()\n",
    "    all_labels = []\n",
    "    all_preds = []\n",
    "    with torch.no_grad():\n",
    "        for inputs, labels in dataloader:\n",
    "            inputs = inputs.to(device)\n",
    "            labels = labels.to(device)\n",
    "            outputs = model(inputs)\n",
    "            _, preds = torch.max(outputs, 2)\n",
    "            all_labels.extend(labels.cpu().numpy().flatten())\n",
    "            all_preds.extend(preds.cpu().numpy().flatten())\n",
    "    return all_labels, all_preds\n",
    "\n"
   ]
  },
  {
   "cell_type": "code",
   "execution_count": 6,
   "metadata": {},
   "outputs": [
    {
     "ename": "SyntaxError",
     "evalue": "(unicode error) 'unicodeescape' codec can't decode bytes in position 2-3: truncated \\UXXXXXXXX escape (3370427490.py, line 2)",
     "output_type": "error",
     "traceback": [
      "\u001b[1;36m  Cell \u001b[1;32mIn[6], line 2\u001b[1;36m\u001b[0m\n\u001b[1;33m    train_sentences, train_labels = load_conll_data('C:\\Users\\Vimarsh\\Desktop\\SAiDL-Assignment-2024\\Q3_MoE\\datasets\\conll2003\\train.txt')\u001b[0m\n\u001b[1;37m                                                    ^\u001b[0m\n\u001b[1;31mSyntaxError\u001b[0m\u001b[1;31m:\u001b[0m (unicode error) 'unicodeescape' codec can't decode bytes in position 2-3: truncated \\UXXXXXXXX escape\n"
     ]
    }
   ],
   "source": [
    "# Load data\n",
    "train_sentences, train_labels = load_conll_data('C:\\Users\\Vimarsh\\Desktop\\SAiDL-Assignment-2024\\Q3_MoE\\datasets\\conll2003\\train.txt')\n",
    "val_sentences, val_labels = load_conll_data('C:\\Users\\Vimarsh\\Desktop\\SAiDL-Assignment-2024\\Q3_MoE\\datasets\\conll2003\\valid.txt')\n",
    "\n",
    "# Tokenize and encode data\n",
    "tokenizer = BertTokenizer.from_pretrained('bert-base-uncased')\n",
    "input_ids_train, attention_masks_train, encoded_labels_train = tokenize_and_encode(train_sentences, train_labels, tokenizer, max_length=128)\n",
    "input_ids_val, attention_masks_val, encoded_labels_val = tokenize_and_encode(val_sentences, val_labels, tokenizer, max_length=128)\n"
   ]
  },
  {
   "cell_type": "code",
   "execution_count": null,
   "metadata": {},
   "outputs": [],
   "source": []
  }
 ],
 "metadata": {
  "kernelspec": {
   "display_name": "Python 3",
   "language": "python",
   "name": "python3"
  },
  "language_info": {
   "codemirror_mode": {
    "name": "ipython",
    "version": 3
   },
   "file_extension": ".py",
   "mimetype": "text/x-python",
   "name": "python",
   "nbconvert_exporter": "python",
   "pygments_lexer": "ipython3",
   "version": "3.8.3"
  }
 },
 "nbformat": 4,
 "nbformat_minor": 2
}
